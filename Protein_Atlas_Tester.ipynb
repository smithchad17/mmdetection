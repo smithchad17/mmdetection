{
 "cells": [
  {
   "cell_type": "markdown",
   "metadata": {},
   "source": [
    "# Trial Code"
   ]
  },
  {
   "cell_type": "code",
   "execution_count": 1,
   "metadata": {},
   "outputs": [],
   "source": [
    "from itertools import groupby\n",
    "from pycocotools import mask as mutils\n",
    "import numpy as np\n",
    "from tqdm import tqdm\n",
    "import pandas as pd\n",
    "import os\n",
    "import pickle\n",
    "import cv2\n",
    "from multiprocessing import Pool\n",
    "import matplotlib.pyplot as plt"
   ]
  },
  {
   "cell_type": "code",
   "execution_count": 3,
   "metadata": {},
   "outputs": [],
   "source": [
    "exp_name = \"v3\"\n",
    "conf_name = \"mask_rcnn_s101_fpn_syncbn-backbone+head_mstrain_1x_coco\"\n",
    "cell_mask_dir = '../input/hpa-mask/hpa_cell_mask'    \n",
    "ROOT = '../input/hpa-single-cell-image-classification/'\n",
    "train_or_test = 'train'\n",
    "img_dir = f'../work/mmdet_{exp_name}_{train_or_test}'\n",
    "!mkdir -p {img_dir}\n",
    "df = pd.read_csv(os.path.join(ROOT, 'train.csv'))\n",
    "\n",
    "# this script takes more than 9hours for full data.\n",
    "debug = True\n",
    "if debug:\n",
    "    df = df[:4]"
   ]
  },
  {
   "cell_type": "code",
   "execution_count": 4,
   "metadata": {},
   "outputs": [
    {
     "name": "stdout",
     "output_type": "stream",
     "text": [
      "                                     ID  ImageWidth  ImageHeight  \\\n",
      "0  0040581b-f1f2-4fbe-b043-b6bfea5404bb        2048         2048   \n",
      "1  004a270d-34a2-4d60-bbe4-365fca868193        2048         2048   \n",
      "2  00537262-883c-4b37-a3a1-a4931b6faea5        2048         2048   \n",
      "\n",
      "           PredictionString  \n",
      "0  0 1 eNoLCAgIMAEABJkBdQ==  \n",
      "1  0 1 eNoLCAgIMAEABJkBdQ==  \n",
      "2  0 1 eNoLCAgIMAEABJkBdQ==  \n"
     ]
    }
   ],
   "source": [
    "print(df)"
   ]
  },
  {
   "cell_type": "markdown",
   "metadata": {},
   "source": [
    "## Helper Functions"
   ]
  },
  {
   "cell_type": "code",
   "execution_count": 5,
   "metadata": {},
   "outputs": [],
   "source": [
    "#The '->' at the end of the function is function annotation. \n",
    "#The typing package interprets the meaning of the function\n",
    "\n",
    "#The same goes for the input. It is just saying it takes a 'mask' that is an np.ndarray.\n",
    "#t.Text is the output of the function. \n",
    "\n",
    "#COCO is a large-scale object detection, segmentation, and captioning dataset. Its API\n",
    "# has masking tools. https://cocodataset.org/#home\n",
    "\n",
    "def encode_binary_mask(mask: np.ndarray) -> t.Text:\n",
    "  \"\"\"Converts a binary mask into OID (OpenImage?) challenge encoding ascii text.\"\"\"\n",
    "\n",
    "  # check input mask --\n",
    "  if mask.dtype != np.bool:\n",
    "    raise ValueError(\n",
    "        \"encode_binary_mask expects a binary mask, received dtype == %s\" %\n",
    "        mask.dtype)\n",
    "\n",
    "  mask = np.squeeze(mask)\n",
    "  if len(mask.shape) != 2:\n",
    "    raise ValueError(\n",
    "        \"encode_binary_mask expects a 2d mask, received shape == %s\" %\n",
    "        mask.shape)\n",
    "\n",
    "  # convert input mask to expected COCO API input --\n",
    "  mask_to_encode = mask.reshape(mask.shape[0], mask.shape[1], 1)\n",
    "  mask_to_encode = mask_to_encode.astype(np.uint8)\n",
    "  mask_to_encode = np.asfortranarray(mask_to_encode)\n",
    "\n",
    "  # RLE encode mask --\n",
    "  encoded_mask = coco_mask.encode(mask_to_encode)[0][\"counts\"]\n",
    "\n",
    "  # compress and base64 encoding -- Encodes binary data to printable ASCII characters\n",
    "  binary_str = zlib.compress(encoded_mask, zlib.Z_BEST_COMPRESSION)\n",
    "  base64_str = base64.b64encode(binary_str)\n",
    "  return base64_str.decode()"
   ]
  },
  {
   "cell_type": "code",
   "execution_count": 6,
   "metadata": {},
   "outputs": [],
   "source": [
    "#Assert raises AssertionError is value is False. Used for debugging\n",
    "\n",
    "#cv2.IMREAD_UNCHANGED returns image as-is with alpha channel\n",
    "\n",
    "#Change image to 'uint8' to keep values in 0-255 range.\n",
    "\n",
    "def read_img(image_id, color, train_or_test='train', image_size=None):\n",
    "    filename = f'{ROOT}/{train_or_test}/{image_id}_{color}.png'\n",
    "    assert os.path.exists(filename), f'not found {filename}'\n",
    "    img = cv2.imread(filename, cv2.IMREAD_UNCHANGED)\n",
    "    if image_size is not None:\n",
    "        img = cv2.resize(img, (image_size, image_size))\n",
    "    if img.dtype == 'uint16':\n",
    "        img = (img/256).astype('uint8') \n",
    "    return img"
   ]
  },
  {
   "cell_type": "code",
   "execution_count": 7,
   "metadata": {},
   "outputs": [],
   "source": [
    "#I believe the (1,2,0) for the transpose function is the order. \n",
    "# It might mean change to green, blue, red but not sure why yet. \n",
    "\n",
    "def load_RGBY_image(image_id, train_or_test='train', image_size=None):\n",
    "    red = read_img(image_id, \"red\", train_or_test, image_size)\n",
    "    green = read_img(image_id, \"green\", train_or_test, image_size)\n",
    "    blue = read_img(image_id, \"blue\", train_or_test, image_size)\n",
    "    # using rgb only here\n",
    "    #yellow = read_img(image_id, \"yellow\", train_or_test, image_size)\n",
    "    stacked_images = np.transpose(np.array([red, green, blue]), (1,2,0))\n",
    "    return stacked_images"
   ]
  },
  {
   "cell_type": "code",
   "execution_count": 8,
   "metadata": {},
   "outputs": [],
   "source": [
    "def print_masked_img(image_id, mask):\n",
    "    img = load_RGBY_image(image_id, train_or_test)\n",
    "    \n",
    "    plt.figure(figsize=(15, 15))\n",
    "    plt.subplot(1, 3, 1)\n",
    "    plt.imshow(img)\n",
    "    plt.title('Image')\n",
    "    plt.axis('off')\n",
    "    \n",
    "    plt.subplot(1, 3, 2)\n",
    "    plt.imshow(mask)\n",
    "    plt.title('Mask')\n",
    "    plt.axis('off')\n",
    "    \n",
    "    plt.subplot(1, 3, 3)\n",
    "    plt.imshow(img)\n",
    "    plt.imshow(mask, alpha=0.6)\n",
    "    plt.title('Image + Mask')\n",
    "    plt.axis('off')\n",
    "    plt.show()"
   ]
  },
  {
   "cell_type": "markdown",
   "metadata": {},
   "source": [
    "## Generate files for mmdetection\n",
    "\n",
    "MMDetection is an open source object detection toolbox based on PyTorch. It is a part of the OpenMMLab project developed by Multimedia Laboratory, CUHK."
   ]
  },
  {
   "cell_type": "code",
   "execution_count": 9,
   "metadata": {},
   "outputs": [
    {
     "name": "stderr",
     "output_type": "stream",
     "text": [
      "100%|██████████| 3/3 [00:00<00:00,  3.98it/s]\n"
     ]
    }
   ],
   "source": [
    "out_image_dir = f'/home/chad/GitHub/MMDetection/mmdetection/work/mmdet_{exp_name}_{train_or_test}/'\n",
    "!mkdir -p {out_image_dir}\n",
    "\n",
    "annos = []\n",
    "for idx in tqdm(range(len(df))):\n",
    "    image_id = df.iloc[idx].ID\n",
    "    img = load_RGBY_image(image_id, train_or_test)\n",
    "    \n",
    "    cv2.imwrite(f'{out_image_dir}/{image_id}.jpg', img)\n",
    "    ann = {\n",
    "        'filename': image_id+'.jpg',\n",
    "        'width': img.shape[1],\n",
    "        'height': img.shape[0],\n",
    "        'ann': {\n",
    "            'bboxes': None,\n",
    "            'labels': None,\n",
    "            'masks': None\n",
    "        }\n",
    "    }\n",
    "    annos.append(ann)\n",
    "    \n",
    "with open(f'/home/chad/GitHub/MMDetection/mmdetection/work/mmdet_{exp_name}_tst.pkl', 'wb') as f:\n",
    "    pickle.dump(annos, f)"
   ]
  },
  {
   "cell_type": "markdown",
   "metadata": {},
   "source": [
    "## Inference"
   ]
  },
  {
   "cell_type": "code",
   "execution_count": 14,
   "metadata": {},
   "outputs": [
    {
     "data": {
      "text/plain": [
       "'/home/chad/GitHub/MMDetection/mmdetection'"
      ]
     },
     "execution_count": 14,
     "metadata": {},
     "output_type": "execute_result"
    }
   ],
   "source": [
    "import os \n",
    "os.getcwd()"
   ]
  },
  {
   "cell_type": "code",
   "execution_count": 34,
   "metadata": {},
   "outputs": [
    {
     "name": "stdout",
     "output_type": "stream",
     "text": [
      "configs/hpa_v4/mask_rcnn_s101_fpn_syncbn-backbone+head_mstrain_1x_coco.py\n"
     ]
    }
   ],
   "source": [
    "#exp_name = \"v4\"\n",
    "#conf_name = \"mask_rcnn_s101_fpn_syncbn-backbone+head_mstrain_1x_coco\"\n",
    "#model_name = 'mask_rcnn_resnest101_v5_ep9'\n",
    "\n",
    "config = f'configs/hpa_{exp_name}/{conf_name}.py'\n",
    "print(config)"
   ]
  },
  {
   "cell_type": "code",
   "execution_count": 35,
   "metadata": {},
   "outputs": [
    {
     "name": "stdout",
     "output_type": "stream",
     "text": [
      "../input/hpa-models/mask_rcnn_resnest101_v5_ep9.pth\n"
     ]
    }
   ],
   "source": [
    "model_file = f'../input/hpa-models/{model_name}.pth'\n",
    "print(model_file)"
   ]
  },
  {
   "cell_type": "code",
   "execution_count": 31,
   "metadata": {},
   "outputs": [],
   "source": [
    "result_pkl = f'../work/{model_name}.pkl'\n"
   ]
  },
  {
   "cell_type": "code",
   "execution_count": 32,
   "metadata": {},
   "outputs": [],
   "source": [
    "additional_conf = '--cfg-options'\n",
    "additional_conf += ' test_cfg.rcnn.score_thr=0.001'\n"
   ]
  },
  {
   "cell_type": "code",
   "execution_count": 33,
   "metadata": {},
   "outputs": [
    {
     "name": "stdout",
     "output_type": "stream",
     "text": [
      "Traceback (most recent call last):\r\n",
      "  File \"/home/chad/anaconda3/lib/python3.8/site-packages/mmcv/utils/registry.py\", line 179, in build_from_cfg\r\n",
      "    return obj_cls(**args)\r\n",
      "  File \"/home/chad/anaconda3/lib/python3.8/site-packages/mmdet/datasets/custom.py\", line 87, in __init__\r\n",
      "    self.data_infos = self.load_annotations(self.ann_file)\r\n",
      "  File \"/home/chad/anaconda3/lib/python3.8/site-packages/mmdet/datasets/custom.py\", line 112, in load_annotations\r\n",
      "    return mmcv.load(ann_file)\r\n",
      "  File \"/home/chad/anaconda3/lib/python3.8/site-packages/mmcv/fileio/io.py\", line 41, in load\r\n",
      "    obj = handler.load_from_path(file, **kwargs)\r\n",
      "  File \"/home/chad/anaconda3/lib/python3.8/site-packages/mmcv/fileio/handlers/pickle_handler.py\", line 13, in load_from_path\r\n",
      "    return super(PickleHandler, self).load_from_path(\r\n",
      "  File \"/home/chad/anaconda3/lib/python3.8/site-packages/mmcv/fileio/handlers/base.py\", line 20, in load_from_path\r\n",
      "    with open(filepath, mode) as f:\r\n",
      "FileNotFoundError: [Errno 2] No such file or directory: '/mmdet_v4_tst.pkl'\r\n",
      "\r\n",
      "During handling of the above exception, another exception occurred:\r\n",
      "\r\n",
      "Traceback (most recent call last):\r\n",
      "  File \"tools/test.py\", line 220, in <module>\r\n",
      "    main()\r\n",
      "  File \"tools/test.py\", line 163, in main\r\n",
      "    dataset = build_dataset(cfg.data.test)\r\n",
      "  File \"/home/chad/anaconda3/lib/python3.8/site-packages/mmdet/datasets/builder.py\", line 71, in build_dataset\r\n",
      "    dataset = build_from_cfg(cfg, DATASETS, default_args)\r\n",
      "  File \"/home/chad/anaconda3/lib/python3.8/site-packages/mmcv/utils/registry.py\", line 182, in build_from_cfg\r\n",
      "    raise type(e)(f'{obj_cls.__name__}: {e}')\r\n",
      "FileNotFoundError: CustomDataset: [Errno 2] No such file or directory: '/mmdet_v4_tst.pkl'\r\n"
     ]
    }
   ],
   "source": [
    "cmd = f'python tools/test.py {config} {model_file} --out {result_pkl} {additional_conf}'\n",
    "!cd ../mmdetection; {cmd}\n"
   ]
  },
  {
   "cell_type": "code",
   "execution_count": null,
   "metadata": {},
   "outputs": [],
   "source": [
    "result = pickle.load(open('../mmdetection/'+result_pkl, 'rb'))"
   ]
  },
  {
   "cell_type": "markdown",
   "metadata": {},
   "source": [
    "## Result Check"
   ]
  },
  {
   "cell_type": "code",
   "execution_count": 23,
   "metadata": {},
   "outputs": [
    {
     "ename": "KeyError",
     "evalue": "0",
     "output_type": "error",
     "traceback": [
      "\u001b[0;31m---------------------------------------------------------------------------\u001b[0m",
      "\u001b[0;31mKeyError\u001b[0m                                  Traceback (most recent call last)",
      "\u001b[0;32m<ipython-input-23-122b35b163dd>\u001b[0m in \u001b[0;36m<module>\u001b[0;34m\u001b[0m\n\u001b[1;32m      2\u001b[0m     \u001b[0mimage_id\u001b[0m \u001b[0;34m=\u001b[0m \u001b[0mannos\u001b[0m\u001b[0;34m[\u001b[0m\u001b[0mii\u001b[0m\u001b[0;34m]\u001b[0m\u001b[0;34m[\u001b[0m\u001b[0;34m'filename'\u001b[0m\u001b[0;34m]\u001b[0m\u001b[0;34m.\u001b[0m\u001b[0mreplace\u001b[0m\u001b[0;34m(\u001b[0m\u001b[0;34m'.jpg'\u001b[0m\u001b[0;34m,\u001b[0m\u001b[0;34m''\u001b[0m\u001b[0;34m)\u001b[0m\u001b[0;34m.\u001b[0m\u001b[0mreplace\u001b[0m\u001b[0;34m(\u001b[0m\u001b[0;34m'.png'\u001b[0m\u001b[0;34m,\u001b[0m\u001b[0;34m''\u001b[0m\u001b[0;34m)\u001b[0m\u001b[0;34m\u001b[0m\u001b[0;34m\u001b[0m\u001b[0m\n\u001b[1;32m      3\u001b[0m     \u001b[0;32mfor\u001b[0m \u001b[0mclass_id\u001b[0m \u001b[0;32min\u001b[0m \u001b[0mrange\u001b[0m\u001b[0;34m(\u001b[0m\u001b[0;36m19\u001b[0m\u001b[0;34m)\u001b[0m\u001b[0;34m:\u001b[0m\u001b[0;34m\u001b[0m\u001b[0;34m\u001b[0m\u001b[0m\n\u001b[0;32m----> 4\u001b[0;31m         \u001b[0mprint\u001b[0m\u001b[0;34m(\u001b[0m\u001b[0mii\u001b[0m\u001b[0;34m,\u001b[0m\u001b[0mclass_id\u001b[0m\u001b[0;34m,\u001b[0m\u001b[0mlen\u001b[0m\u001b[0;34m(\u001b[0m\u001b[0mresult\u001b[0m\u001b[0;34m[\u001b[0m\u001b[0mii\u001b[0m\u001b[0;34m]\u001b[0m\u001b[0;34m[\u001b[0m\u001b[0;36m0\u001b[0m\u001b[0;34m]\u001b[0m\u001b[0;34m[\u001b[0m\u001b[0mclass_id\u001b[0m\u001b[0;34m]\u001b[0m\u001b[0;34m)\u001b[0m\u001b[0;34m,\u001b[0m \u001b[0mlen\u001b[0m\u001b[0;34m(\u001b[0m\u001b[0mresult\u001b[0m\u001b[0;34m[\u001b[0m\u001b[0mii\u001b[0m\u001b[0;34m]\u001b[0m\u001b[0;34m[\u001b[0m\u001b[0;36m1\u001b[0m\u001b[0;34m]\u001b[0m\u001b[0;34m[\u001b[0m\u001b[0mclass_id\u001b[0m\u001b[0;34m]\u001b[0m\u001b[0;34m)\u001b[0m\u001b[0;34m)\u001b[0m\u001b[0;34m\u001b[0m\u001b[0;34m\u001b[0m\u001b[0m\n\u001b[0m\u001b[1;32m      5\u001b[0m         \u001b[0mbbs\u001b[0m \u001b[0;34m=\u001b[0m \u001b[0mresult\u001b[0m\u001b[0;34m[\u001b[0m\u001b[0mii\u001b[0m\u001b[0;34m]\u001b[0m\u001b[0;34m[\u001b[0m\u001b[0;36m0\u001b[0m\u001b[0;34m]\u001b[0m\u001b[0;34m[\u001b[0m\u001b[0mclass_id\u001b[0m\u001b[0;34m]\u001b[0m\u001b[0;34m\u001b[0m\u001b[0;34m\u001b[0m\u001b[0m\n\u001b[1;32m      6\u001b[0m         \u001b[0msgs\u001b[0m \u001b[0;34m=\u001b[0m \u001b[0mresult\u001b[0m\u001b[0;34m[\u001b[0m\u001b[0mii\u001b[0m\u001b[0;34m]\u001b[0m\u001b[0;34m[\u001b[0m\u001b[0;36m1\u001b[0m\u001b[0;34m]\u001b[0m\u001b[0;34m[\u001b[0m\u001b[0mclass_id\u001b[0m\u001b[0;34m]\u001b[0m\u001b[0;34m\u001b[0m\u001b[0;34m\u001b[0m\u001b[0m\n",
      "\u001b[0;31mKeyError\u001b[0m: 0"
     ]
    }
   ],
   "source": [
    "for ii in range(3):\n",
    "    image_id = annos[ii]['filename'].replace('.jpg','').replace('.png','')\n",
    "    for class_id in range(19):\n",
    "        #print(ii,class_id,len(result[ii][0][class_id]), len(result[ii][1][class_id]))\n",
    "        bbs = result[ii][0][class_id]\n",
    "        sgs = result[ii][1][class_id]\n",
    "        for bb, sg in zip(bbs,sgs):\n",
    "            box = bb[:4]\n",
    "            cnf = bb[4]\n",
    "            h = sg['size'][0]\n",
    "            w = sg['size'][0]\n",
    "            if cnf > 0.3:\n",
    "                print(f'class_id:{class_id}, image_id:{image_id}, confidence:{cnf}')\n",
    "                mask = mutils.decode(sg).astype(bool)\n",
    "                print_masked_img(image_id, mask)"
   ]
  },
  {
   "cell_type": "code",
   "execution_count": 22,
   "metadata": {},
   "outputs": [
    {
     "name": "stdout",
     "output_type": "stream",
     "text": [
      "[{'filename': '0040581b-f1f2-4fbe-b043-b6bfea5404bb.jpg', 'width': 2048, 'height': 2048, 'ann': {'bboxes': None, 'labels': None, 'masks': None}}, {'filename': '004a270d-34a2-4d60-bbe4-365fca868193.jpg', 'width': 2048, 'height': 2048, 'ann': {'bboxes': None, 'labels': None, 'masks': None}}, {'filename': '00537262-883c-4b37-a3a1-a4931b6faea5.jpg', 'width': 2048, 'height': 2048, 'ann': {'bboxes': None, 'labels': None, 'masks': None}}]\n"
     ]
    }
   ],
   "source": [
    "print(annos)"
   ]
  },
  {
   "cell_type": "code",
   "execution_count": null,
   "metadata": {},
   "outputs": [],
   "source": []
  }
 ],
 "metadata": {
  "kernelspec": {
   "display_name": "Python 3",
   "language": "python",
   "name": "python3"
  },
  "language_info": {
   "codemirror_mode": {
    "name": "ipython",
    "version": 3
   },
   "file_extension": ".py",
   "mimetype": "text/x-python",
   "name": "python",
   "nbconvert_exporter": "python",
   "pygments_lexer": "ipython3",
   "version": "3.8.5"
  }
 },
 "nbformat": 4,
 "nbformat_minor": 4
}
