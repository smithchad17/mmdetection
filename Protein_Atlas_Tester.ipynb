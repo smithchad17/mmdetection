{
 "cells": [
  {
   "cell_type": "markdown",
   "metadata": {},
   "source": [
    "# Trial Code"
   ]
  },
  {
   "cell_type": "code",
   "execution_count": 2,
   "metadata": {},
   "outputs": [],
   "source": [
    "from itertools import groupby\n",
    "from pycocotools import mask as mutils\n",
    "import numpy as np\n",
    "from tqdm import tqdm\n",
    "import pandas as pd\n",
    "import os\n",
    "import pickle\n",
    "import cv2\n",
    "from multiprocessing import Pool\n",
    "import matplotlib.pyplot as plt"
   ]
  },
  {
   "cell_type": "code",
   "execution_count": 6,
   "metadata": {},
   "outputs": [],
   "source": [
    "exp_name = \"v3\"\n",
    "conf_name = \"mask_rcnn_s101_fpn_syncbn-backbone+head_mstrain_1x_coco\"\n",
    "cell_mask_dir = '../input/hpa-mask/hpa_cell_mask'    \n",
    "ROOT = '../../Protein_Atlas/'\n",
    "train_or_test = 'train'\n",
    "img_dir = f'work/mmdet_{exp_name}_{train_or_test}'\n",
    "!mkdir -p {img_dir}\n",
    "df = pd.read_csv(os.path.join(ROOT, 'train.csv'))\n",
    "\n",
    "# this script takes more than 9hours for full data.\n",
    "debug = True\n",
    "if debug:\n",
    "    df = df[:4]"
   ]
  },
  {
   "cell_type": "code",
   "execution_count": 7,
   "metadata": {},
   "outputs": [
    {
     "name": "stdout",
     "output_type": "stream",
     "text": [
      "                                     ID  Label\n",
      "0  5c27f04c-bb99-11e8-b2b9-ac1f6b6435d0  8|5|0\n",
      "1  5fb643ee-bb99-11e8-b2b9-ac1f6b6435d0   14|0\n",
      "2  60b57878-bb99-11e8-b2b9-ac1f6b6435d0    6|1\n",
      "3  5c1a898e-bb99-11e8-b2b9-ac1f6b6435d0  16|10\n"
     ]
    }
   ],
   "source": [
    "print(df)"
   ]
  },
  {
   "cell_type": "markdown",
   "metadata": {},
   "source": [
    "## Helper Functions"
   ]
  },
  {
   "cell_type": "code",
   "execution_count": 8,
   "metadata": {},
   "outputs": [],
   "source": [
    "# convert segmentation mask image to run length encoding\n",
    "MAX_GREEN = 64 # filter out dark green cells\n",
    "def get_rles_from_mask(image_id, class_id):\n",
    "    mask = np.load(f'{cell_mask_dir}/{image_id}.npz')['arr_0']\n",
    "    if class_id != '18':\n",
    "        green_img = read_img(image_id, 'green')\n",
    "    rle_list = []\n",
    "    mask_ids = np.unique(mask)\n",
    "    for val in mask_ids:\n",
    "        if val == 0:\n",
    "            continue\n",
    "        binary_mask = np.where(mask == val, 1, 0).astype(bool)\n",
    "        if class_id != '18':\n",
    "            masked_img = green_img * binary_mask\n",
    "            #print(val, green_img.max(),masked_img.max())\n",
    "            if masked_img.max() < MAX_GREEN:\n",
    "                continue\n",
    "        rle = coco_rle_encode(binary_mask)\n",
    "        rle_list.append(rle)\n",
    "    return rle_list, mask.shape[0], mask.shape[1]\n"
   ]
  },
  {
   "cell_type": "code",
   "execution_count": 6,
   "metadata": {},
   "outputs": [],
   "source": [
    "def coco_rle_encode(mask):\n",
    "    rle = {'counts': [], 'size': list(mask.shape)}\n",
    "    counts = rle.get('counts')\n",
    "    for i, (value, elements) in enumerate(groupby(mask.ravel(order='F'))):\n",
    "        if i == 0 and value == 1:\n",
    "            counts.append(0)\n",
    "        counts.append(len(list(elements)))\n",
    "    return rle"
   ]
  },
  {
   "cell_type": "code",
   "execution_count": 7,
   "metadata": {},
   "outputs": [],
   "source": [
    "# mmdet custom dataset generator\n",
    "def mk_mmdet_custom_data(image_id, class_id):\n",
    "    rles, height, width = get_rles_from_mask(image_id, class_id)\n",
    "    if len(rles) == 0:\n",
    "        return {\n",
    "            'filename': image_id+'.jpg',\n",
    "            'width': width,\n",
    "            'height': height,\n",
    "            'ann': {}\n",
    "        }\n",
    "    rles = mutils.frPyObjects(rles, height, width)\n",
    "    bboxes = mutils.toBbox(rles)\n",
    "    bboxes[:, 2] += bboxes[:, 0]\n",
    "    bboxes[:, 3] += bboxes[:, 1]\n",
    "    return {\n",
    "        'filename': image_id+'.jpg',\n",
    "        'width': width,\n",
    "        'height': height,\n",
    "        'ann':\n",
    "            {\n",
    "                'bboxes': np.array(bboxes, dtype=np.float32),\n",
    "                'labels': np.zeros(len(bboxes)), # dummy data.(will be replaced later)\n",
    "                'masks': rles\n",
    "            }\n",
    "    }"
   ]
  },
  {
   "cell_type": "code",
   "execution_count": 8,
   "metadata": {},
   "outputs": [],
   "source": [
    "# print utility from public notebook\n",
    "def print_masked_img(image_id, mask):\n",
    "    img = load_RGBY_image(image_id, train_or_test)\n",
    "    \n",
    "    plt.figure(figsize=(15, 15))\n",
    "    plt.subplot(1, 3, 1)\n",
    "    plt.imshow(img)\n",
    "    plt.title('Image')\n",
    "    plt.axis('off')\n",
    "    \n",
    "    plt.subplot(1, 3, 2)\n",
    "    plt.imshow(mask)\n",
    "    plt.title('Mask')\n",
    "    plt.axis('off')\n",
    "    \n",
    "    plt.subplot(1, 3, 3)\n",
    "    plt.imshow(img)\n",
    "    plt.imshow(mask, alpha=0.6)\n",
    "    plt.title('Image + Mask')\n",
    "    plt.axis('off')\n",
    "    plt.show()"
   ]
  },
  {
   "cell_type": "code",
   "execution_count": 9,
   "metadata": {},
   "outputs": [],
   "source": [
    "# image loader, using rgb only here\n",
    "def load_RGBY_image(image_id, train_or_test='train', image_size=None):\n",
    "    red = read_img(image_id, \"red\", train_or_test, image_size)\n",
    "    green = read_img(image_id, \"green\", train_or_test, image_size)\n",
    "    blue = read_img(image_id, \"blue\", train_or_test, image_size)\n",
    "    #yellow = read_img(image_id, \"yellow\", train_or_test, image_size)\n",
    "    stacked_images = np.transpose(np.array([red, green, blue]), (1,2,0))\n",
    "    return stacked_images"
   ]
  },
  {
   "cell_type": "code",
   "execution_count": null,
   "metadata": {},
   "outputs": [],
   "source": [
    "def read_img(image_id, color, train_or_test='train', image_size=None):\n",
    "    filename = f'{ROOT}/{train_or_test}/{image_id}_{color}.png'\n",
    "    assert os.path.exists(filename), f'not found {filename}'\n",
    "    img = cv2.imread(filename, cv2.IMREAD_UNCHANGED)\n",
    "    if image_size is not None:\n",
    "        img = cv2.resize(img, (image_size, image_size))\n",
    "    if img.max() > 255:\n",
    "        img_max = img.max()\n",
    "        img = (img/255).astype('uint8')\n",
    "    return img"
   ]
  },
  {
   "cell_type": "code",
   "execution_count": null,
   "metadata": {},
   "outputs": [],
   "source": [
    "# make annotation helper called multi processes\n",
    "def mk_ann(idx):\n",
    "    image_id = df.iloc[idx].ID\n",
    "    class_id = df.iloc[idx].Label\n",
    "    anno = mk_mmdet_custom_data(image_id, class_id)\n",
    "    img = load_RGBY_image(image_id, train_or_test)\n",
    "    cv2.imwrite(f'{img_dir}/{image_id}.jpg', img)\n",
    "    return anno, idx, image_id"
   ]
  },
  {
   "cell_type": "markdown",
   "metadata": {},
   "source": [
    "## Generate files for mmdetection\n",
    "\n",
    "MMDetection is an open source object detection toolbox based on PyTorch. It is a part of the OpenMMLab project developed by Multimedia Laboratory, CUHK."
   ]
  },
  {
   "cell_type": "code",
   "execution_count": 9,
   "metadata": {},
   "outputs": [
    {
     "name": "stderr",
     "output_type": "stream",
     "text": [
      "100%|██████████| 3/3 [00:00<00:00,  3.98it/s]\n"
     ]
    }
   ],
   "source": [
    "out_image_dir = f'/home/chad/GitHub/MMDetection/mmdetection/work/mmdet_{exp_name}_{train_or_test}/'\n",
    "!mkdir -p {out_image_dir}\n",
    "\n",
    "annos = []\n",
    "for idx in tqdm(range(len(df))):\n",
    "    image_id = df.iloc[idx].ID\n",
    "    img = load_RGBY_image(image_id, train_or_test)\n",
    "    \n",
    "    cv2.imwrite(f'{out_image_dir}/{image_id}.jpg', img)\n",
    "    ann = {\n",
    "        'filename': image_id+'.jpg',\n",
    "        'width': img.shape[1],\n",
    "        'height': img.shape[0],\n",
    "        'ann': {\n",
    "            'bboxes': None,\n",
    "            'labels': None,\n",
    "            'masks': None\n",
    "        }\n",
    "    }\n",
    "    annos.append(ann)\n",
    "    \n",
    "with open(f'/home/chad/GitHub/MMDetection/mmdetection/work/mmdet_{exp_name}_tst.pkl', 'wb') as f:\n",
    "    pickle.dump(annos, f)"
   ]
  },
  {
   "cell_type": "markdown",
   "metadata": {},
   "source": [
    "## Inference"
   ]
  },
  {
   "cell_type": "code",
   "execution_count": 14,
   "metadata": {},
   "outputs": [
    {
     "data": {
      "text/plain": [
       "'/home/chad/GitHub/MMDetection/mmdetection'"
      ]
     },
     "execution_count": 14,
     "metadata": {},
     "output_type": "execute_result"
    }
   ],
   "source": [
    "import os \n",
    "os.getcwd()"
   ]
  },
  {
   "cell_type": "code",
   "execution_count": 34,
   "metadata": {},
   "outputs": [
    {
     "name": "stdout",
     "output_type": "stream",
     "text": [
      "configs/hpa_v4/mask_rcnn_s101_fpn_syncbn-backbone+head_mstrain_1x_coco.py\n"
     ]
    }
   ],
   "source": [
    "#exp_name = \"v4\"\n",
    "#conf_name = \"mask_rcnn_s101_fpn_syncbn-backbone+head_mstrain_1x_coco\"\n",
    "#model_name = 'mask_rcnn_resnest101_v5_ep9'\n",
    "\n",
    "config = f'configs/hpa_{exp_name}/{conf_name}.py'\n",
    "print(config)"
   ]
  },
  {
   "cell_type": "code",
   "execution_count": 35,
   "metadata": {},
   "outputs": [
    {
     "name": "stdout",
     "output_type": "stream",
     "text": [
      "../input/hpa-models/mask_rcnn_resnest101_v5_ep9.pth\n"
     ]
    }
   ],
   "source": [
    "model_file = f'../input/hpa-models/{model_name}.pth'\n",
    "print(model_file)"
   ]
  },
  {
   "cell_type": "code",
   "execution_count": 31,
   "metadata": {},
   "outputs": [],
   "source": [
    "result_pkl = f'../work/{model_name}.pkl'\n"
   ]
  },
  {
   "cell_type": "code",
   "execution_count": 32,
   "metadata": {},
   "outputs": [],
   "source": [
    "additional_conf = '--cfg-options'\n",
    "additional_conf += ' test_cfg.rcnn.score_thr=0.001'\n"
   ]
  },
  {
   "cell_type": "code",
   "execution_count": 33,
   "metadata": {},
   "outputs": [
    {
     "name": "stdout",
     "output_type": "stream",
     "text": [
      "Traceback (most recent call last):\r\n",
      "  File \"/home/chad/anaconda3/lib/python3.8/site-packages/mmcv/utils/registry.py\", line 179, in build_from_cfg\r\n",
      "    return obj_cls(**args)\r\n",
      "  File \"/home/chad/anaconda3/lib/python3.8/site-packages/mmdet/datasets/custom.py\", line 87, in __init__\r\n",
      "    self.data_infos = self.load_annotations(self.ann_file)\r\n",
      "  File \"/home/chad/anaconda3/lib/python3.8/site-packages/mmdet/datasets/custom.py\", line 112, in load_annotations\r\n",
      "    return mmcv.load(ann_file)\r\n",
      "  File \"/home/chad/anaconda3/lib/python3.8/site-packages/mmcv/fileio/io.py\", line 41, in load\r\n",
      "    obj = handler.load_from_path(file, **kwargs)\r\n",
      "  File \"/home/chad/anaconda3/lib/python3.8/site-packages/mmcv/fileio/handlers/pickle_handler.py\", line 13, in load_from_path\r\n",
      "    return super(PickleHandler, self).load_from_path(\r\n",
      "  File \"/home/chad/anaconda3/lib/python3.8/site-packages/mmcv/fileio/handlers/base.py\", line 20, in load_from_path\r\n",
      "    with open(filepath, mode) as f:\r\n",
      "FileNotFoundError: [Errno 2] No such file or directory: '/mmdet_v4_tst.pkl'\r\n",
      "\r\n",
      "During handling of the above exception, another exception occurred:\r\n",
      "\r\n",
      "Traceback (most recent call last):\r\n",
      "  File \"tools/test.py\", line 220, in <module>\r\n",
      "    main()\r\n",
      "  File \"tools/test.py\", line 163, in main\r\n",
      "    dataset = build_dataset(cfg.data.test)\r\n",
      "  File \"/home/chad/anaconda3/lib/python3.8/site-packages/mmdet/datasets/builder.py\", line 71, in build_dataset\r\n",
      "    dataset = build_from_cfg(cfg, DATASETS, default_args)\r\n",
      "  File \"/home/chad/anaconda3/lib/python3.8/site-packages/mmcv/utils/registry.py\", line 182, in build_from_cfg\r\n",
      "    raise type(e)(f'{obj_cls.__name__}: {e}')\r\n",
      "FileNotFoundError: CustomDataset: [Errno 2] No such file or directory: '/mmdet_v4_tst.pkl'\r\n"
     ]
    }
   ],
   "source": [
    "cmd = f'python tools/test.py {config} {model_file} --out {result_pkl} {additional_conf}'\n",
    "!cd ../mmdetection; {cmd}\n"
   ]
  },
  {
   "cell_type": "code",
   "execution_count": null,
   "metadata": {},
   "outputs": [],
   "source": [
    "result = pickle.load(open('../mmdetection/'+result_pkl, 'rb'))"
   ]
  },
  {
   "cell_type": "markdown",
   "metadata": {},
   "source": [
    "## Result Check"
   ]
  },
  {
   "cell_type": "code",
   "execution_count": 23,
   "metadata": {},
   "outputs": [
    {
     "ename": "KeyError",
     "evalue": "0",
     "output_type": "error",
     "traceback": [
      "\u001b[0;31m---------------------------------------------------------------------------\u001b[0m",
      "\u001b[0;31mKeyError\u001b[0m                                  Traceback (most recent call last)",
      "\u001b[0;32m<ipython-input-23-122b35b163dd>\u001b[0m in \u001b[0;36m<module>\u001b[0;34m\u001b[0m\n\u001b[1;32m      2\u001b[0m     \u001b[0mimage_id\u001b[0m \u001b[0;34m=\u001b[0m \u001b[0mannos\u001b[0m\u001b[0;34m[\u001b[0m\u001b[0mii\u001b[0m\u001b[0;34m]\u001b[0m\u001b[0;34m[\u001b[0m\u001b[0;34m'filename'\u001b[0m\u001b[0;34m]\u001b[0m\u001b[0;34m.\u001b[0m\u001b[0mreplace\u001b[0m\u001b[0;34m(\u001b[0m\u001b[0;34m'.jpg'\u001b[0m\u001b[0;34m,\u001b[0m\u001b[0;34m''\u001b[0m\u001b[0;34m)\u001b[0m\u001b[0;34m.\u001b[0m\u001b[0mreplace\u001b[0m\u001b[0;34m(\u001b[0m\u001b[0;34m'.png'\u001b[0m\u001b[0;34m,\u001b[0m\u001b[0;34m''\u001b[0m\u001b[0;34m)\u001b[0m\u001b[0;34m\u001b[0m\u001b[0;34m\u001b[0m\u001b[0m\n\u001b[1;32m      3\u001b[0m     \u001b[0;32mfor\u001b[0m \u001b[0mclass_id\u001b[0m \u001b[0;32min\u001b[0m \u001b[0mrange\u001b[0m\u001b[0;34m(\u001b[0m\u001b[0;36m19\u001b[0m\u001b[0;34m)\u001b[0m\u001b[0;34m:\u001b[0m\u001b[0;34m\u001b[0m\u001b[0;34m\u001b[0m\u001b[0m\n\u001b[0;32m----> 4\u001b[0;31m         \u001b[0mprint\u001b[0m\u001b[0;34m(\u001b[0m\u001b[0mii\u001b[0m\u001b[0;34m,\u001b[0m\u001b[0mclass_id\u001b[0m\u001b[0;34m,\u001b[0m\u001b[0mlen\u001b[0m\u001b[0;34m(\u001b[0m\u001b[0mresult\u001b[0m\u001b[0;34m[\u001b[0m\u001b[0mii\u001b[0m\u001b[0;34m]\u001b[0m\u001b[0;34m[\u001b[0m\u001b[0;36m0\u001b[0m\u001b[0;34m]\u001b[0m\u001b[0;34m[\u001b[0m\u001b[0mclass_id\u001b[0m\u001b[0;34m]\u001b[0m\u001b[0;34m)\u001b[0m\u001b[0;34m,\u001b[0m \u001b[0mlen\u001b[0m\u001b[0;34m(\u001b[0m\u001b[0mresult\u001b[0m\u001b[0;34m[\u001b[0m\u001b[0mii\u001b[0m\u001b[0;34m]\u001b[0m\u001b[0;34m[\u001b[0m\u001b[0;36m1\u001b[0m\u001b[0;34m]\u001b[0m\u001b[0;34m[\u001b[0m\u001b[0mclass_id\u001b[0m\u001b[0;34m]\u001b[0m\u001b[0;34m)\u001b[0m\u001b[0;34m)\u001b[0m\u001b[0;34m\u001b[0m\u001b[0;34m\u001b[0m\u001b[0m\n\u001b[0m\u001b[1;32m      5\u001b[0m         \u001b[0mbbs\u001b[0m \u001b[0;34m=\u001b[0m \u001b[0mresult\u001b[0m\u001b[0;34m[\u001b[0m\u001b[0mii\u001b[0m\u001b[0;34m]\u001b[0m\u001b[0;34m[\u001b[0m\u001b[0;36m0\u001b[0m\u001b[0;34m]\u001b[0m\u001b[0;34m[\u001b[0m\u001b[0mclass_id\u001b[0m\u001b[0;34m]\u001b[0m\u001b[0;34m\u001b[0m\u001b[0;34m\u001b[0m\u001b[0m\n\u001b[1;32m      6\u001b[0m         \u001b[0msgs\u001b[0m \u001b[0;34m=\u001b[0m \u001b[0mresult\u001b[0m\u001b[0;34m[\u001b[0m\u001b[0mii\u001b[0m\u001b[0;34m]\u001b[0m\u001b[0;34m[\u001b[0m\u001b[0;36m1\u001b[0m\u001b[0;34m]\u001b[0m\u001b[0;34m[\u001b[0m\u001b[0mclass_id\u001b[0m\u001b[0;34m]\u001b[0m\u001b[0;34m\u001b[0m\u001b[0;34m\u001b[0m\u001b[0m\n",
      "\u001b[0;31mKeyError\u001b[0m: 0"
     ]
    }
   ],
   "source": [
    "for ii in range(3):\n",
    "    image_id = annos[ii]['filename'].replace('.jpg','').replace('.png','')\n",
    "    for class_id in range(19):\n",
    "        #print(ii,class_id,len(result[ii][0][class_id]), len(result[ii][1][class_id]))\n",
    "        bbs = result[ii][0][class_id]\n",
    "        sgs = result[ii][1][class_id]\n",
    "        for bb, sg in zip(bbs,sgs):\n",
    "            box = bb[:4]\n",
    "            cnf = bb[4]\n",
    "            h = sg['size'][0]\n",
    "            w = sg['size'][0]\n",
    "            if cnf > 0.3:\n",
    "                print(f'class_id:{class_id}, image_id:{image_id}, confidence:{cnf}')\n",
    "                mask = mutils.decode(sg).astype(bool)\n",
    "                print_masked_img(image_id, mask)"
   ]
  },
  {
   "cell_type": "code",
   "execution_count": 22,
   "metadata": {},
   "outputs": [
    {
     "name": "stdout",
     "output_type": "stream",
     "text": [
      "[{'filename': '0040581b-f1f2-4fbe-b043-b6bfea5404bb.jpg', 'width': 2048, 'height': 2048, 'ann': {'bboxes': None, 'labels': None, 'masks': None}}, {'filename': '004a270d-34a2-4d60-bbe4-365fca868193.jpg', 'width': 2048, 'height': 2048, 'ann': {'bboxes': None, 'labels': None, 'masks': None}}, {'filename': '00537262-883c-4b37-a3a1-a4931b6faea5.jpg', 'width': 2048, 'height': 2048, 'ann': {'bboxes': None, 'labels': None, 'masks': None}}]\n"
     ]
    }
   ],
   "source": [
    "print(annos)"
   ]
  },
  {
   "cell_type": "code",
   "execution_count": null,
   "metadata": {},
   "outputs": [],
   "source": []
  }
 ],
 "metadata": {
  "kernelspec": {
   "display_name": "Python 3",
   "language": "python",
   "name": "python3"
  },
  "language_info": {
   "codemirror_mode": {
    "name": "ipython",
    "version": 3
   },
   "file_extension": ".py",
   "mimetype": "text/x-python",
   "name": "python",
   "nbconvert_exporter": "python",
   "pygments_lexer": "ipython3",
   "version": "3.8.5"
  }
 },
 "nbformat": 4,
 "nbformat_minor": 4
}
